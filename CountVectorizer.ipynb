{
 "cells": [
  {
   "cell_type": "code",
   "execution_count": 1,
   "id": "f9dd85a2",
   "metadata": {},
   "outputs": [],
   "source": [
    "import pandas as pd\n",
    "from sklearn.feature_extraction.text import CountVectorizer"
   ]
  },
  {
   "cell_type": "code",
   "execution_count": 2,
   "id": "4392b875",
   "metadata": {},
   "outputs": [],
   "source": [
    "text=[\"As of April 2024, one of the prevailing global concerns revolves around the escalating tensions in the South China Sea.\",\n",
    "      \"The region has been a hotbed of geopolitical contention, primarily due to conflicting territorial claims by several nations, including China, Vietnam, the Philippines, and others.\",\n",
    "      \"Recently, the situation has intensified as China has been increasingly assertive in asserting its claims, deploying military assets, constructing artificial islands, and expanding its presence in disputed waters.\",\n",
    "      \"This has raised alarms among neighboring countries and drawn criticism from the international community, particularly the United States and its allies. The United States has been actively involved in the region, conducting freedom of navigation operations and providing support to allies like the Philippines and Vietnam. Furthermore, there have been growing concerns about the militarization of the South China Sea and its implications for regional stability and security.\", \n",
    "      \"The risk of accidental clashes or miscalculations that could escalate into a larger conflict looms large.\", \n",
    "      \"Efforts to find a diplomatic resolution to the disputes have been challenging, with various multilateral initiatives and dialogues yielding limited progress. As tensions continue to simmer, the South China Sea remains a critical flashpoint with far-reaching implications for global geopolitics and maritime trade.\"]"
   ]
  },
  {
   "cell_type": "code",
   "execution_count": 8,
   "id": "f167541b",
   "metadata": {},
   "outputs": [],
   "source": [
    "vectorizer = CountVectorizer(stop_words= ['english'])"
   ]
  },
  {
   "cell_type": "code",
   "execution_count": 9,
   "id": "f8399c14",
   "metadata": {},
   "outputs": [],
   "source": [
    "count_matrix = vectorizer.fit_transform(text)"
   ]
  },
  {
   "cell_type": "code",
   "execution_count": 10,
   "id": "df6724e1",
   "metadata": {},
   "outputs": [],
   "source": [
    "count_array = count_matrix.toarray()"
   ]
  },
  {
   "cell_type": "code",
   "execution_count": 11,
   "id": "882829e5",
   "metadata": {},
   "outputs": [],
   "source": [
    "df = pd.DataFrame(data=count_array,columns = vectorizer.get_feature_names_out())"
   ]
  },
  {
   "cell_type": "code",
   "execution_count": 12,
   "id": "702f4e46",
   "metadata": {},
   "outputs": [
    {
     "name": "stdout",
     "output_type": "stream",
     "text": [
      "   2024  about  accidental  actively  alarms  allies  among  and  april  \\\n",
      "0     1      0           0         0       0       0      0    0      1   \n",
      "1     0      0           0         0       0       0      0    1      0   \n",
      "2     0      0           0         0       0       0      0    1      0   \n",
      "3     0      1           0         1       1       2      1    6      0   \n",
      "4     0      0           1         0       0       0      0    0      0   \n",
      "5     0      0           0         0       0       0      0    2      0   \n",
      "\n",
      "   around  ...  there  this  to  trade  united  various  vietnam  waters  \\\n",
      "0       1  ...      0     0   0      0       0        0        0       0   \n",
      "1       0  ...      0     0   1      0       0        0        1       0   \n",
      "2       0  ...      0     0   0      0       0        0        0       1   \n",
      "3       0  ...      1     1   1      0       2        0        1       0   \n",
      "4       0  ...      0     0   0      0       0        0        0       0   \n",
      "5       0  ...      0     0   3      1       0        1        0       0   \n",
      "\n",
      "   with  yielding  \n",
      "0     0         0  \n",
      "1     0         0  \n",
      "2     0         0  \n",
      "3     0         0  \n",
      "4     0         0  \n",
      "5     2         1  \n",
      "\n",
      "[6 rows x 126 columns]\n"
     ]
    }
   ],
   "source": [
    "print(df)"
   ]
  }
 ],
 "metadata": {
  "kernelspec": {
   "display_name": "CUDA",
   "language": "python",
   "name": "cuda"
  },
  "language_info": {
   "codemirror_mode": {
    "name": "ipython",
    "version": 3
   },
   "file_extension": ".py",
   "mimetype": "text/x-python",
   "name": "python",
   "nbconvert_exporter": "python",
   "pygments_lexer": "ipython3",
   "version": "3.9.17"
  }
 },
 "nbformat": 4,
 "nbformat_minor": 5
}
